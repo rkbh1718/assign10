{
 "cells": [
  {
   "cell_type": "markdown",
   "id": "58793439",
   "metadata": {},
   "source": [
    "# 1. How do you distinguish between shutil.copy() and shutil.copytree()?"
   ]
  },
  {
   "cell_type": "code",
   "execution_count": null,
   "id": "30c434b6",
   "metadata": {},
   "outputs": [],
   "source": [
    "shutil. copy() will copy a single file, shutil. copytree() will copy an entire folder and every folder and file contained in it"
   ]
  },
  {
   "cell_type": "markdown",
   "id": "9d14aaaf",
   "metadata": {},
   "source": [
    "# 2. What function is used to rename files?"
   ]
  },
  {
   "cell_type": "code",
   "execution_count": null,
   "id": "b8a62cd9",
   "metadata": {},
   "outputs": [],
   "source": [
    "os.rename()"
   ]
  },
  {
   "cell_type": "markdown",
   "id": "293f58bb",
   "metadata": {},
   "source": [
    "# 3. What is the difference between the delete functions in the send2trash and shutil modules?"
   ]
  },
  {
   "cell_type": "code",
   "execution_count": null,
   "id": "a3cf605e",
   "metadata": {},
   "outputs": [],
   "source": [
    "The send2trash functions will move a file or folder to the recycle bin, while shutil functions will permanently delete files and folders."
   ]
  },
  {
   "cell_type": "markdown",
   "id": "1816d362",
   "metadata": {},
   "source": [
    "# 4.ZipFile objects have a close() method just like File objects’ close() method. What ZipFile method is equivalent to File objects’ open() method?"
   ]
  },
  {
   "cell_type": "code",
   "execution_count": null,
   "id": "ed856d66",
   "metadata": {},
   "outputs": [],
   "source": []
  },
  {
   "cell_type": "markdown",
   "id": "fe25c366",
   "metadata": {},
   "source": [
    "# 5. Create a programme that searches a folder tree for files with a certain file extension (such as .pdf or .jpg). Copy these files from whatever location they are in to a new folder."
   ]
  },
  {
   "cell_type": "code",
   "execution_count": 20,
   "id": "f276d580",
   "metadata": {},
   "outputs": [
    {
     "name": "stdout",
     "output_type": "stream",
     "text": [
      "location:  C:\\Users\\RAJNEESH BHARTI\\Desktop\\PythonResume\\cv.pdf\n",
      "location:  C:\\Users\\RAJNEESH BHARTI\\Desktop\\PythonResume\\Rajneesh -Application Developer__Available..pdf\n",
      "location:  C:\\Users\\RAJNEESH BHARTI\\Desktop\\PythonResume\\bnana h\\wwwwwees6246732290798388624.pdf\n",
      "location:  C:\\Users\\RAJNEESH BHARTI\\Desktop\\PythonResume\\old\\Rajneesh -Application Developer__Available.pdf\n"
     ]
    }
   ],
   "source": [
    "import os, shutil\n",
    "\n",
    "def moveFileType(folder): \n",
    "    for root, dirs, files in os.walk(folder): \n",
    "               for file in files: \n",
    "                   if file.endswith('.pdf'):\n",
    "                    image_path=os.path.join(root,file)  # get the path location of each jpeg image.\n",
    "                    print ('location: ',image_path )\n",
    "                    shutil.copy(image_path, 'C:\\\\Users\\\\RAJNEESH BHARTI\\\\Desktop\\\\ineouron\\\\assign')\n",
    "\n",
    "\n",
    "moveFileType('C:\\\\Users\\\\RAJNEESH BHARTI\\\\Desktop\\\\PythonResume')"
   ]
  },
  {
   "cell_type": "code",
   "execution_count": 16,
   "id": "e30d8092",
   "metadata": {},
   "outputs": [],
   "source": []
  },
  {
   "cell_type": "code",
   "execution_count": 4,
   "id": "53fe37db",
   "metadata": {},
   "outputs": [
    {
     "data": {
      "text/plain": [
       "'C:\\\\Users\\\\RAJNEESH BHARTI\\\\Desktop\\\\ineouron\\\\assign'"
      ]
     },
     "execution_count": 4,
     "metadata": {},
     "output_type": "execute_result"
    }
   ],
   "source": [
    "os.getcwd()"
   ]
  },
  {
   "cell_type": "code",
   "execution_count": null,
   "id": "1a008f66",
   "metadata": {},
   "outputs": [],
   "source": []
  }
 ],
 "metadata": {
  "kernelspec": {
   "display_name": "Python 3",
   "language": "python",
   "name": "python3"
  },
  "language_info": {
   "codemirror_mode": {
    "name": "ipython",
    "version": 3
   },
   "file_extension": ".py",
   "mimetype": "text/x-python",
   "name": "python",
   "nbconvert_exporter": "python",
   "pygments_lexer": "ipython3",
   "version": "3.8.8"
  }
 },
 "nbformat": 4,
 "nbformat_minor": 5
}
